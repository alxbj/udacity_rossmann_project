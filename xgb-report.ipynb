{
  "cells": [
    {
      "cell_type": "markdown",
      "source": [
        "steps:\n",
        "- Data EDA\n",
        "- Data Cleaning\n",
        "- Xgboost learning\n",
        "- find best parameters"
      ],
      "metadata": {
        "_uuid": "9ee9a5a68d60ab88cd9af97b4650f8cb433791b1"
      }
    },
    {
      "cell_type": "code",
      "source": [
        "# import required libraries\n",
        "import numpy as np\n",
        "import pandas as pd\n",
        "import seaborn as sns\n",
        "import matplotlib.pyplot as plt\n",
        "\n",
        "import xgboost as xgb\n",
        "import os\n",
        "from time import time\n",
        "\nget_ipython().run_line_magic('matplotlib', 'inline')"
      ],
      "outputs": [],
      "execution_count": 1,
      "metadata": {
        "_cell_guid": "79c7e3d0-c299-4dcb-8224-4455121ee9b0",
        "_uuid": "d629ff2d2480ee46fbb7e2d37f6b5fab8052498a",
        "trusted": true
      }
    },
    {
      "cell_type": "code",
      "source": [
        "print(os.listdir(\"./input\"))"
      ],
      "outputs": [
        {
          "output_type": "stream",
          "name": "stdout",
          "text": [
            "['.DS_Store', 'rossmann-store-sales', '.ipynb_checkpoints']\n"
          ]
        }
      ],
      "execution_count": 3,
      "metadata": {
        "trusted": true,
        "_uuid": "fd036b498ae16cddbe1aa0fa6a6af1883708432c"
      }
    },
    {
      "cell_type": "markdown",
      "source": [
        "## Data EDA"
      ],
      "metadata": {
        "_uuid": "a60c69903d144cbccef9ace96fb5249de4a2df56"
      }
    },
    {
      "cell_type": "code",
      "source": [
        "# read data\n",
        "\n",
        "train = pd.read_csv(\"./input/rossmann-store-sales/train.csv\", parse_dates=[2], low_memory=False)\n",
        "test = pd.read_csv(\"./input/rossmann-store-sales/test.csv\", parse_dates=[3], low_memory=False)\n",
        "store = pd.read_csv(\"./input/rossmann-store-sales/store.csv\", low_memory=False)"
      ],
      "outputs": [],
      "execution_count": 5,
      "metadata": {
        "_uuid": "7d899e5d7568a52fdd070ebfde738524b00e7c5b",
        "trusted": true
      }
    },
    {
      "cell_type": "markdown",
      "source": [
        "## Data Cleaning"
      ],
      "metadata": {
        "_uuid": "472e3516baa050d31c04bf04edcaa77368207f6b"
      }
    },
    {
      "cell_type": "code",
      "source": [
        "# the store should be open in the test,so we fillna with 1\n",
        "test.fillna(1, inplace=True)\n",
        "\n",
        "# fillna in store with 0 has better result than median()\n",
        "store.fillna(0, inplace=True)"
      ],
      "outputs": [],
      "execution_count": 7,
      "metadata": {
        "_uuid": "cc3cddba43eb47484e924037989f4854401d493d",
        "trusted": true
      }
    },
    {
      "cell_type": "code",
      "source": [
        "display(train.isnull().sum(),test.isnull().sum(),store.isnull().sum())"
      ],
      "outputs": [
        {
          "output_type": "display_data",
          "data": {
            "text/plain": [
              "Store            0\n",
              "DayOfWeek        0\n",
              "Date             0\n",
              "Sales            0\n",
              "Customers        0\n",
              "Open             0\n",
              "Promo            0\n",
              "StateHoliday     0\n",
              "SchoolHoliday    0\n",
              "dtype: int64"
            ]
          },
          "metadata": {}
        },
        {
          "output_type": "display_data",
          "data": {
            "text/plain": [
              "Id               0\n",
              "Store            0\n",
              "DayOfWeek        0\n",
              "Date             0\n",
              "Open             0\n",
              "Promo            0\n",
              "StateHoliday     0\n",
              "SchoolHoliday    0\n",
              "dtype: int64"
            ]
          },
          "metadata": {}
        },
        {
          "output_type": "display_data",
          "data": {
            "text/plain": [
              "Store                        0\n",
              "StoreType                    0\n",
              "Assortment                   0\n",
              "CompetitionDistance          0\n",
              "CompetitionOpenSinceMonth    0\n",
              "CompetitionOpenSinceYear     0\n",
              "Promo2                       0\n",
              "Promo2SinceWeek              0\n",
              "Promo2SinceYear              0\n",
              "PromoInterval                0\n",
              "dtype: int64"
            ]
          },
          "metadata": {}
        }
      ],
      "execution_count": 8,
      "metadata": {
        "_uuid": "b203af182eaf8fb02dc7b5e1249f93e440bcc08d",
        "trusted": true
      }
    },
    {
      "cell_type": "code",
      "source": [
        "train = pd.merge(train, store, on='Store')\n",
        "test = pd.merge(test, store, on='Store')"
      ],
      "outputs": [],
      "execution_count": 9,
      "metadata": {
        "_uuid": "6ec10cdb920149b58a744415c8646ac30956cb4a",
        "trusted": true
      }
    },
    {
      "cell_type": "code",
      "source": [
        "# split the last 6 weeks data as hold-out set (idea from Gert https://www.kaggle.com/c/rossmann-store-sales/discussion/18024)\n",
        "train = train.sort_values(['Date'],ascending = False)\n",
        "\n",
        "x_hold = train[:6*7*1115]\n",
        "x_train = train[6*7*1115:]"
      ],
      "outputs": [],
      "execution_count": 10,
      "metadata": {
        "_uuid": "093945aec9af03bcccd3f7868175d5423f75a2e8",
        "trusted": true
      }
    },
    {
      "cell_type": "code",
      "source": [
        "# only use data of Sales > 0 and Open is 1\n",
        "# x_hold = x_hold[x_hold[\"Open\"] != 0]\n",
        "x_hold = x_hold[x_hold[\"Sales\"] > 0]\n",
        "# x_train = x_train[x_train[\"Open\"] != 0]\n",
        "x_train = x_train[x_train[\"Sales\"] > 0]"
      ],
      "outputs": [],
      "execution_count": 11,
      "metadata": {
        "_uuid": "87a3ed41b44f7a43eabb80f706392ab714c8782b",
        "trusted": true
      }
    },
    {
      "cell_type": "code",
      "source": [
        "def covert_seq(seq):\n",
        "    \"\"\"add promo seq\"\"\"\n",
        "    new_seq = list()\n",
        "    j = 0\n",
        "    last = None\n",
        "    for i in seq:\n",
        "        if last == 0 and i == 1:\n",
        "            j = 0\n",
        "        if i == 0:\n",
        "            new_seq.append(10)\n",
        "        elif i == 1:\n",
        "            j += 1\n",
        "            new_seq.append(j)\n",
        "        else:\n",
        "            raise\n",
        "        last = i\n",
        "    return new_seq  \n",
        "\n",
        "def features_create(data:pd.DataFrame):    \n",
        "    \n",
        "    data = data.copy()\n",
        "    \n",
        "    mappings = {'0':0, 'a':1, 'b':2, 'c':3, 'd':4}\n",
        "    data.StoreType.replace(mappings, inplace=True)\n",
        "    data.Assortment.replace(mappings, inplace=True)\n",
        "    data.StateHoliday.replace(mappings, inplace=True)\n",
        "    \n",
        "    data['Year'] = data.Date.dt.year\n",
        "    data['Month'] = data.Date.dt.month\n",
        "    data['Day'] = data.Date.dt.day\n",
        "    data['DayOfWeek'] = data.Date.dt.dayofweek\n",
        "    data['WeekOfYear'] = data.Date.dt.weekofyear\n",
        "    \n",
        "    data['CompetitionOpen'] = 12 * (data.Year - data.CompetitionOpenSinceYear) +         (data.Month - data.CompetitionOpenSinceMonth)\n",
        "    data['PromoOpen'] = 12 * (data.Year - data.Promo2SinceYear) +         (data.WeekOfYear - data.Promo2SinceWeek) / 4.0\n",
        "    data['CompetitionOpen'] = data.CompetitionOpen.apply(lambda x: x if x > 0 else 0)        \n",
        "    data['PromoOpen'] = data.PromoOpen.apply(lambda x: x if x > 0 else 0)\n",
        "    data[\"CompetitionDistance_log1p\"] = data[\"CompetitionDistance\"].apply(np.log1p)\n",
        "    \n",
        "    # add promo seq\n",
        "    data_promo = data.set_index([\"Store\", \"Date\"])[\"Promo\"].copy()\n",
        "    data_promo.sort_index(level=[0, 1], ascending=[True, True], inplace=True)\n",
        "    data_promo = data_promo.to_frame()\n",
        "    data_promo = data_promo.groupby(data_promo.index.get_level_values(0)).apply(lambda x: x.assign(Promo_seq=covert_seq(x[\"Promo\"]))).reset_index()\n",
        "    data = data.merge(data_promo.drop(\"Promo\", 1), on=[\"Store\", \"Date\"], how=\"left\")\n",
        "    \n",
        "    month2str = {1:'Jan', 2:'Feb', 3:'Mar', 4:'Apr', 5:'May', 6:'Jun', 7:'Jul', 8:'Aug', 9:'Sept', 10:'Oct', 11:'Nov', 12:'Dec'}\n",
        "    data['monthStr'] = data.Month.map(month2str)\n",
        "    data.loc[data.PromoInterval == 0, 'PromoInterval'] = ''\n",
        "    data['IsPromoMonth'] = 0\n",
        "    for interval in data.PromoInterval.unique():\n",
        "        if interval != '':\n",
        "            for month in interval.split(','):\n",
        "                data.loc[(data.monthStr == month) & (data.PromoInterval == interval), 'IsPromoMonth'] = 1\n",
        "    return data"
      ],
      "outputs": [],
      "execution_count": 12,
      "metadata": {
        "_uuid": "2b994b24fe5f99c275b3664375a39157aa4e317a",
        "trusted": true
      }
    },
    {
      "cell_type": "code",
      "source": [
        "x_train = features_create(x_train)\n",
        "x_hold = features_create(x_hold)\n",
        "x_test = features_create(test)\n",
        "print('Features creation finished')"
      ],
      "outputs": [
        {
          "output_type": "stream",
          "name": "stdout",
          "text": [
            "Features creation finished\n"
          ]
        }
      ],
      "execution_count": 13,
      "metadata": {
        "_uuid": "fb61246741df6575fa06cf7891189c89fc7cfdf7",
        "trusted": true
      }
    },
    {
      "cell_type": "code",
      "source": [
        "# drop the features of not help\n",
        "drop_features = ['Date','Customers','Open','PromoInterval','monthStr','CompetitionDistance']\n",
        "x_train.drop(drop_features, axis=1, inplace=True)\n",
        "x_hold.drop(drop_features, axis=1, inplace =True)\n",
        "\n",
        "test_drop_features = set(drop_features) & set(x_test) | set([\"Id\"]) \n",
        "x_test.drop(test_drop_features, 1, inplace=True)"
      ],
      "outputs": [],
      "execution_count": 14,
      "metadata": {
        "_uuid": "6d3923da691a95de81f9253b056cc1b8c69fdaf4",
        "trusted": true
      }
    },
    {
      "cell_type": "code",
      "source": [
        "y_train = np.log1p(x_train.Sales)\n",
        "x_train = x_train.drop(['Sales'], axis=1)\n",
        "y_hold = np.log1p(x_hold.Sales)\n",
        "x_hold = x_hold.drop(['Sales'], axis=1)"
      ],
      "outputs": [],
      "execution_count": 15,
      "metadata": {
        "_uuid": "96506d9bcf8bbb6bb9bf5e05bc25b6ea43827a10",
        "trusted": true
      }
    },
    {
      "cell_type": "markdown",
      "source": [
        "## modelling"
      ],
      "metadata": {
        "_uuid": "fa50eeb99ff3c4de913d918037fdf451d88732b6"
      }
    },
    {
      "cell_type": "code",
      "source": [
        "# define rmspe for xgb(code from https://www.kaggle.com/cast42/xgboost-in-python-with-rmspe-v2/code)\n",
        "def rmspe(y, yhat):\n",
        "    return np.sqrt(np.mean((yhat/y-1) ** 2))\n",
        "\n",
        "def rmspe_xg(yhat, y):\n",
        "    y = np.expm1(y.get_label())\n",
        "    yhat = np.expm1(yhat)\n",
        "    return \"rmspe\", rmspe(y,yhat)"
      ],
      "outputs": [],
      "execution_count": 16,
      "metadata": {
        "_uuid": "b2f5bd57cd441cfe598795e9c1e21f8eaca3770a",
        "trusted": true
      }
    },
    {
      "cell_type": "code",
      "source": [
        "params = {\"objective\": \"reg:linear\",\n",
        "          \"booster\" : \"gbtree\",\n",
        "          \"eta\": 0.015,\n",
        "          \"max_depth\": 10,\n",
        "          \"subsample\": 0.9,\n",
        "          \"colsample_bytree\": 0.7,\n",
        "          \"silent\": 1,\n",
        "          \"seed\": 1301\n",
        "          }\n",
        "\n",
        "num_boost_round = 6000\n",
        "early_stopping_rounds = 100"
      ],
      "outputs": [],
      "execution_count": 18,
      "metadata": {
        "_uuid": "183405d0176678405ea562e3caaa0fc5b5c8e6cf",
        "trusted": true
      }
    },
    {
      "cell_type": "code",
      "source": [
        "\n",
        "dtrain = xgb.DMatrix(x_train, y_train)\n",
        "dvalid = xgb.DMatrix(x_hold, y_hold)\n",
        "watchlist = [(dtrain, 'train'), (dvalid, 'eval')]\n",
        "\n",
        "# training model\n",
        "print(\"Train a XGBoost model\")\n",
        "start = time()\n",
        "gbm = xgb.train(params, dtrain, num_boost_round, evals=watchlist, \n",
        "  early_stopping_rounds=early_stopping_rounds, feval=rmspe_xg, verbose_eval=100)\n",
        "end = time()\n",
        "print('Training time is {:2f} s.'.format(end-start))\n",
        "\n",
        "# save model\n",
        "gbm.save_model(\"0001.model\")\n",
        "\n",
        "# checking with hold-on dataset\n",
        "print(\"validating\")\n",
        "x_hold.sort_index(inplace=True) \n",
        "y_hold.sort_index(inplace=True) \n",
        "\n",
        "yhat = gbm.predict(xgb.DMatrix(x_hold))\n",
        "error = rmspe(np.expm1(y_hold), np.expm1(yhat))\n",
        "\nprint('RMSPE: {:.6f}'.format(error))"
      ],
      "outputs": [
        {
          "output_type": "stream",
          "name": "stdout",
          "text": [
            "Train a XGBoost model\n",
            "[0]\ttrain-rmse:8.14457\teval-rmse:8.15156\ttrain-rmspe:0.999851\teval-rmspe:0.999853\n",
            "Multiple eval metrics have been passed: 'eval-rmspe' will be used for early stopping.\n",
            "\n",
            "Will train until eval-rmspe hasn't improved in 100 rounds.\n"
          ]
        }
      ],
      "execution_count": 19,
      "metadata": {
        "_kg_hide-output": true,
        "_uuid": "4fa05df3fb895c1a5ae0b62060a800afdb0d0577",
        "scrolled": false,
        "trusted": true
      }
    },
    {
      "cell_type": "code",
      "source": [
        "# analysis by hold-out set\n",
        "res = pd.DataFrame(data = y_hold)\n",
        "res['Prediction'] = yhat\n",
        "res = pd.merge(x_hold, res, left_index= True, right_index=True)\n",
        "res['Prediction_True'] = res['Prediction'].apply(np.expm1)\n",
        "res['Sales_True'] = res['Sales'].apply(np.expm1)\n",
        "res['Ratio'] = res.Prediction / res.Sales\n",
        "res['Ratio_True'] = res.Prediction.apply(np.expm1) / res.Sales.apply(np.expm1)\n",
        "res['Error'] = abs(res.Ratio-1)\n",
        "res['Weight'] = res.Sales / res.Prediction\n",
        "\n",
        "res.to_csv(\"res.csv\", index=False)\n",
        "res.head()"
      ],
      "outputs": [],
      "execution_count": null,
      "metadata": {
        "trusted": true,
        "_uuid": "fa1b185be1b0e4cd9800a606cb11b3ac6a7bdda0"
      }
    },
    {
      "cell_type": "code",
      "source": [
        "# whole correction\n",
        "\n",
        "def correction(y_true, y_predict):\n",
        "    W = [(0.990 + (i/1000)) for i in range(20)]\n",
        "    score = []\n",
        "    for w in W:\n",
        "        error = rmspe(np.expm1(y_true), np.expm1(y_predict * w))\n",
        "        score.append(error)\n",
        "    score = pd.Series(score, index=W)\n",
        "    best_weight = score[score == score.min()].index\n",
        "    return best_weight\n",
        "\n",
        "def correction_by_store(x_hold, x_test):\n",
        "    store_no = x_hold[\"Store\"].unique()\n",
        "    \n",
        "    weight_y_test = np.zeros(len(x_test))\n",
        "    weight_y_hold = np.zeros(len(x_hold))\n",
        "\n",
        "    store_weights = {}\n",
        "    \n",
        "    for no in store_no:\n",
        "        df = x_hold[x_hold[\"Store\"] == no]\n",
        "        y_pred = df.Prediction\n",
        "        y_true = df.Sales\n",
        "        \n",
        "        best_weight = correction(y_true, y_pred)\n",
        "        store_weights[no] = best_weight\n",
        "        \n",
        "        weight_y_test[x_test.Store == no] = best_weight\n",
        "        weight_y_hold[x_hold.Store == no] = best_weight\n",
        "\n    return weight_y_hold, weight_y_test"
      ],
      "outputs": [],
      "execution_count": null,
      "metadata": {
        "_uuid": "fc17b5ac64eb14ab32ec4ddf432f450e01f89a7c",
        "trusted": true
      }
    },
    {
      "cell_type": "code",
      "source": [
        "w_hold, w_test = correction_by_store(res, x_test)"
      ],
      "outputs": [],
      "execution_count": null,
      "metadata": {
        "_uuid": "546e942537023f9e6ebf47f168c4395f1bd1a7cd",
        "trusted": true
      }
    },
    {
      "cell_type": "code",
      "source": [
        "yhat_new = yhat * w_hold\n",
        "error = rmspe(np.expm1(y_hold), np.expm1(yhat_new))\n",
        "print('RMSPE for weight corretion {:6f}'.format(error))"
      ],
      "outputs": [],
      "execution_count": null,
      "metadata": {
        "_uuid": "f373a29dd64521c349255a730dd565356d1c7d90",
        "trusted": true
      }
    },
    {
      "cell_type": "code",
      "source": [
        "print(\"Make predictions on the test set\")\n",
        "dtest = xgb.DMatrix(x_test)\n",
        "test_probs = gbm.predict(dtest)\n",
        "\n",
        "# model1  kaggle private score\n",
        "result = pd.DataFrame({\"Id\": test['Id'], 'Sales': np.expm1(test_probs)})\n",
        "result.to_csv(\"Rossmann_submission_1.csv\", index=False)\n",
        "\n",
        "# model2 kaggle private score\n",
        "result = pd.DataFrame({\"Id\": test['Id'], 'Sales': np.expm1(test_probs*0.995)})\n",
        "result.to_csv(\"Rossmann_submission_2.csv\", index=False)\n",
        "\n",
        "# model3 kaggle private score \n",
        "result = pd.DataFrame({\"Id\": test['Id'], 'Sales': np.expm1(test_probs*w_test)})\n",
        "result.to_csv(\"Rossmann_submission_3.csv\", index=False)"
      ],
      "outputs": [],
      "execution_count": null,
      "metadata": {
        "_uuid": "e794769ea14bcc241fda2ab2633f283e590fa3e8",
        "trusted": true
      }
    },
    {
      "cell_type": "code",
      "source": [
        "plt.figure(figsize=(10,6))\n",
        "xgb.plot_importance(gbm)\n",
        "plt.savefig(\"importance.png\")"
      ],
      "outputs": [],
      "execution_count": null,
      "metadata": {
        "trusted": true,
        "_uuid": "a0f220bae940b2c8fd596cf043f000a9a9c8299b"
      }
    },
    {
      "cell_type": "code",
      "source": [
        "# plot hold setb\n",
        "\n",
        "res = res.sort_values(by=[\"Year\", \"Month\", \"Day\"], ascending=[True, True, True])\n",
        "\n",
        "col_1 = ['Sales_True','Prediction_True']\n",
        "col_2 = ['Ratio_True']\n",
        "\n",
        "L = np.random.randint( low=1,high = 1115, size = 3 ) \n",
        "print('Mean Ratio of predition and real sales data is {}: store all'.format(res[\"Ratio_True\"].mean()))\n",
        "for i in L:\n",
        "    \n",
        "    s1 = pd.DataFrame(res[res['Store']==i],columns = col_1)\n",
        "    s2 = pd.DataFrame(res[res['Store']==i],columns = col_2)\n",
        "    s1.plot(title = 'Comparation of predition and real sales data: store {}'.format(i),figsize=(12,4))\n",
        "    s2.plot(title = 'Ratio of predition and real sales data: store {}'.format(i),figsize=(12,4))\n",
        "    print('Mean Ratio of predition and real sales data is {}: store {}'.format(s2[\"Ratio_True\"].mean(),i))"
      ],
      "outputs": [],
      "execution_count": null,
      "metadata": {
        "trusted": true,
        "_uuid": "9ea4bf0e73cad314a5fd21ced3825b6606ab038b",
        "scrolled": false
      }
    }
  ],
  "metadata": {
    "kernelspec": {
      "name": "rossmann",
      "language": "python",
      "display_name": "Python (rossmann)"
    },
    "language_info": {
      "name": "python",
      "version": "3.7.0",
      "mimetype": "text/x-python",
      "codemirror_mode": {
        "name": "ipython",
        "version": 3
      },
      "pygments_lexer": "ipython3",
      "nbconvert_exporter": "python",
      "file_extension": ".py"
    },
    "kernel_info": {
      "name": "rossmann"
    },
    "nteract": {
      "version": "0.12.3"
    }
  },
  "nbformat": 4,
  "nbformat_minor": 1
}